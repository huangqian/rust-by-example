{
 "cells": [
  {
   "cell_type": "markdown",
   "metadata": {},
   "source": [
    "## 数组与切片"
   ]
  },
  {
   "cell_type": "markdown",
   "metadata": {},
   "source": [
    "+ 数组是一组相同类型的对象集合，在内存中是连续存储的。数组使用空括号`[]`来创建。且它们的大小在编译时会被确定。数组的类型标记为`[T; size]`。"
   ]
  },
  {
   "cell_type": "markdown",
   "metadata": {},
   "source": [
    "+ 切片类型和数组类似，但是其大小在编译时是不确定的。相反，切片是一个双字数组对象，第一个字是一个指向数据的指针，第二个字是切片的长度。"
   ]
  },
  {
   "cell_type": "code",
   "execution_count": 13,
   "metadata": {},
   "outputs": [
    {
     "name": "stdout",
     "output_type": "stream",
     "text": [
      "[1, 2, 3, 4, 5]\n",
      "0\n",
      "arr.length=5\n"
     ]
    }
   ],
   "source": [
    "//定长数组\n",
    "let arr: [i32; 5] = [1,2,3,4,5];\n",
    "println!(\"{:?}\", arr);\n",
    "\n",
    "\n",
    "//所有元素可以初始化成相同的值\n",
    "let same_value_arr : [i32; 500] = [0; 500];\n",
    "println!(\"{}\", same_value_arr[499]);\n",
    "\n",
    "//返回数组大小\n",
    "println!(\"arr.length={}\", arr.len());"
   ]
  },
  {
   "cell_type": "code",
   "execution_count": 14,
   "metadata": {},
   "outputs": [
    {
     "name": "stdout",
     "output_type": "stream",
     "text": [
      "first element of the slice: 1\n",
      "the slice has 5 elements\n",
      "first element of the slice: 2\n",
      "the slice has 3 elements\n"
     ]
    }
   ],
   "source": [
    "fn analyze_slice(slice: &[i32]){\n",
    "    println!(\"first element of the slice: {}\", slice[0]);\n",
    "    println!(\"the slice has {} elements\", slice.len());\n",
    "}\n",
    "\n",
    "//数组可以自动被借用成为slice\n",
    "analyze_slice(&arr);\n",
    "\n",
    "analyze_slice(&arr[1..4]);\n"
   ]
  },
  {
   "cell_type": "code",
   "execution_count": null,
   "metadata": {},
   "outputs": [],
   "source": []
  }
 ],
 "metadata": {
  "kernelspec": {
   "display_name": "Rust",
   "language": "rust",
   "name": "rust"
  },
  "language_info": {
   "codemirror_mode": "rust",
   "file_extension": ".rs",
   "mimetype": "text/rust",
   "name": "Rust",
   "pygment_lexer": "rust",
   "version": ""
  }
 },
 "nbformat": 4,
 "nbformat_minor": 2
}
